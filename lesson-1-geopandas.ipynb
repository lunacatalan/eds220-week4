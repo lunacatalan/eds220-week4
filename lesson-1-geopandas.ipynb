{
 "cells": [
  {
   "cell_type": "markdown",
   "id": "98da9889-2462-41ec-85ce-6ea97afe84e2",
   "metadata": {},
   "source": [
    "# Intro to geopandas\n",
    "\n",
    "GeoPandas is a Python library for geospatial data. \n",
    "\n",
    "Import it with its standard abbreviation:"
   ]
  },
  {
   "cell_type": "code",
   "execution_count": 22,
   "id": "9a6582db-e560-468e-8954-8a72bb8dc3bc",
   "metadata": {
    "tags": []
   },
   "outputs": [],
   "source": [
    "# library we will explore\n",
    "import geopandas as gpd\n",
    "\n",
    "# will make map\n",
    "import matplotlib.pyplot as plt"
   ]
  },
  {
   "cell_type": "markdown",
   "id": "ae075f27-a533-4f77-b619-529dc54944fb",
   "metadata": {},
   "source": [
    "## Data\n",
    "\n",
    "We will use simplified data about wild pig sightings in CA. Data is from GBIF.\n",
    "\n",
    "Reda in the shapefule using the `geopandas` funtion `gdp.read_file()`:"
   ]
  },
  {
   "cell_type": "code",
   "execution_count": 4,
   "id": "2f59d5dd-c349-4c38-9065-be39caa391ce",
   "metadata": {
    "tags": []
   },
   "outputs": [
    {
     "data": {
      "text/html": [
       "<div>\n",
       "<style scoped>\n",
       "    .dataframe tbody tr th:only-of-type {\n",
       "        vertical-align: middle;\n",
       "    }\n",
       "\n",
       "    .dataframe tbody tr th {\n",
       "        vertical-align: top;\n",
       "    }\n",
       "\n",
       "    .dataframe thead th {\n",
       "        text-align: right;\n",
       "    }\n",
       "</style>\n",
       "<table border=\"1\" class=\"dataframe\">\n",
       "  <thead>\n",
       "    <tr style=\"text-align: right;\">\n",
       "      <th></th>\n",
       "      <th>gbifID</th>\n",
       "      <th>species</th>\n",
       "      <th>state</th>\n",
       "      <th>individual</th>\n",
       "      <th>day</th>\n",
       "      <th>month</th>\n",
       "      <th>year</th>\n",
       "      <th>inst</th>\n",
       "      <th>collection</th>\n",
       "      <th>catalogNum</th>\n",
       "      <th>identified</th>\n",
       "      <th>geometry</th>\n",
       "    </tr>\n",
       "  </thead>\n",
       "  <tbody>\n",
       "    <tr>\n",
       "      <th>0</th>\n",
       "      <td>899953814</td>\n",
       "      <td>Sus scrofa</td>\n",
       "      <td>California</td>\n",
       "      <td>NaN</td>\n",
       "      <td>22.0</td>\n",
       "      <td>3.0</td>\n",
       "      <td>2014.0</td>\n",
       "      <td>iNaturalist</td>\n",
       "      <td>Observations</td>\n",
       "      <td>581956</td>\n",
       "      <td>edwardrooks</td>\n",
       "      <td>POINT (-121.53812 37.08846)</td>\n",
       "    </tr>\n",
       "    <tr>\n",
       "      <th>1</th>\n",
       "      <td>899951348</td>\n",
       "      <td>Sus scrofa</td>\n",
       "      <td>California</td>\n",
       "      <td>NaN</td>\n",
       "      <td>9.0</td>\n",
       "      <td>6.0</td>\n",
       "      <td>2007.0</td>\n",
       "      <td>iNaturalist</td>\n",
       "      <td>Observations</td>\n",
       "      <td>576047</td>\n",
       "      <td>Bruce Freeman</td>\n",
       "      <td>POINT (-120.54942 35.47354)</td>\n",
       "    </tr>\n",
       "    <tr>\n",
       "      <th>2</th>\n",
       "      <td>896560733</td>\n",
       "      <td>Sus scrofa</td>\n",
       "      <td>California</td>\n",
       "      <td>NaN</td>\n",
       "      <td>20.0</td>\n",
       "      <td>12.0</td>\n",
       "      <td>1937.0</td>\n",
       "      <td>MVZ</td>\n",
       "      <td>Hild</td>\n",
       "      <td>MVZ:Hild:195</td>\n",
       "      <td>Museum of Vertebrate Zoology, University of Ca...</td>\n",
       "      <td>POINT (-122.27063 37.87610)</td>\n",
       "    </tr>\n",
       "    <tr>\n",
       "      <th>3</th>\n",
       "      <td>896559958</td>\n",
       "      <td>Sus scrofa</td>\n",
       "      <td>California</td>\n",
       "      <td>NaN</td>\n",
       "      <td>1.0</td>\n",
       "      <td>4.0</td>\n",
       "      <td>1969.0</td>\n",
       "      <td>MVZ</td>\n",
       "      <td>Hild</td>\n",
       "      <td>MVZ:Hild:1213</td>\n",
       "      <td>Museum of Vertebrate Zoology, University of Ca...</td>\n",
       "      <td>POINT (-121.82297 38.44543)</td>\n",
       "    </tr>\n",
       "    <tr>\n",
       "      <th>4</th>\n",
       "      <td>896559722</td>\n",
       "      <td>Sus scrofa</td>\n",
       "      <td>California</td>\n",
       "      <td>NaN</td>\n",
       "      <td>1.0</td>\n",
       "      <td>1.0</td>\n",
       "      <td>1961.0</td>\n",
       "      <td>MVZ</td>\n",
       "      <td>Hild</td>\n",
       "      <td>MVZ:Hild:1004</td>\n",
       "      <td>Museum of Vertebrate Zoology, University of Ca...</td>\n",
       "      <td>POINT (-121.74559 38.54882)</td>\n",
       "    </tr>\n",
       "  </tbody>\n",
       "</table>\n",
       "</div>"
      ],
      "text/plain": [
       "      gbifID     species       state  individual   day  month    year  \\\n",
       "0  899953814  Sus scrofa  California         NaN  22.0    3.0  2014.0   \n",
       "1  899951348  Sus scrofa  California         NaN   9.0    6.0  2007.0   \n",
       "2  896560733  Sus scrofa  California         NaN  20.0   12.0  1937.0   \n",
       "3  896559958  Sus scrofa  California         NaN   1.0    4.0  1969.0   \n",
       "4  896559722  Sus scrofa  California         NaN   1.0    1.0  1961.0   \n",
       "\n",
       "          inst    collection     catalogNum  \\\n",
       "0  iNaturalist  Observations         581956   \n",
       "1  iNaturalist  Observations         576047   \n",
       "2          MVZ          Hild   MVZ:Hild:195   \n",
       "3          MVZ          Hild  MVZ:Hild:1213   \n",
       "4          MVZ          Hild  MVZ:Hild:1004   \n",
       "\n",
       "                                          identified  \\\n",
       "0                                        edwardrooks   \n",
       "1                                      Bruce Freeman   \n",
       "2  Museum of Vertebrate Zoology, University of Ca...   \n",
       "3  Museum of Vertebrate Zoology, University of Ca...   \n",
       "4  Museum of Vertebrate Zoology, University of Ca...   \n",
       "\n",
       "                      geometry  \n",
       "0  POINT (-121.53812 37.08846)  \n",
       "1  POINT (-120.54942 35.47354)  \n",
       "2  POINT (-122.27063 37.87610)  \n",
       "3  POINT (-121.82297 38.44543)  \n",
       "4  POINT (-121.74559 38.54882)  "
      ]
     },
     "execution_count": 4,
     "metadata": {},
     "output_type": "execute_result"
    }
   ],
   "source": [
    "# read in the data \n",
    "pigs = gpd.read_file('data/gbif_sus_scroga_california/gbif_sus_scroga_california.shp')\n",
    "\n",
    "pigs.head()"
   ]
  },
  {
   "cell_type": "markdown",
   "id": "b41f45fc-252d-481d-b1b6-6e57485d6e24",
   "metadata": {},
   "source": [
    "## `Geoseries` and `GeoDataFrame`\n",
    "\n",
    "Core data structure of GeoPandas is `geopandas.GeoDataFrame`\n",
    "\n",
    "`geopandas.GeoDataFrame` = think os it as a `geopandas.DataFrame` with a dedicated geometry column. \n",
    "\n",
    "The **geometry column** in a `gpd.GeoDataFrame` holds the geometry (point, polyong, line) of each spatial feature. This column is a type `geopandas.GeoSeries`.\n",
    "\n",
    "The other non-geometry columns in the geodataframe are the usual `pd.Sereies` type. "
   ]
  },
  {
   "cell_type": "code",
   "execution_count": 8,
   "id": "751ab635-2b92-411c-b0ce-05b35a52186a",
   "metadata": {
    "tags": []
   },
   "outputs": [
    {
     "name": "stdout",
     "output_type": "stream",
     "text": [
      "<class 'geopandas.geodataframe.GeoDataFrame'>\n",
      "<class 'geopandas.geoseries.GeoSeries'>\n",
      "<class 'pandas.core.series.Series'>\n"
     ]
    }
   ],
   "source": [
    "# type of the pigs dataframe\n",
    "print(type(pigs))\n",
    "\n",
    "# type of geometry column\n",
    "print(type(pigs.geometry))\n",
    "\n",
    "# type of gbifID column \n",
    "print(type(pigs.gbifID))"
   ]
  },
  {
   "cell_type": "markdown",
   "id": "9a886eb2-a8bf-4e1c-bcd4-b6c3f3a04718",
   "metadata": {},
   "source": [
    "The new data type of the geometry column is reflected in the `dtypes`"
   ]
  },
  {
   "cell_type": "code",
   "execution_count": 9,
   "id": "c789c012-b92a-43e1-9786-18cb2272bcb5",
   "metadata": {
    "tags": []
   },
   "outputs": [
    {
     "data": {
      "text/plain": [
       "gbifID           int64\n",
       "species         object\n",
       "state           object\n",
       "individual     float64\n",
       "day            float64\n",
       "month          float64\n",
       "year           float64\n",
       "inst            object\n",
       "collection      object\n",
       "catalogNum      object\n",
       "identified      object\n",
       "geometry      geometry\n",
       "dtype: object"
      ]
     },
     "execution_count": 9,
     "metadata": {},
     "output_type": "execute_result"
    }
   ],
   "source": [
    "# data type of clumns \n",
    "pigs.dtypes"
   ]
  },
  {
   "cell_type": "markdown",
   "id": "70e738de-af3e-4886-a92b-0994966b1c36",
   "metadata": {},
   "source": [
    "## Geometric Information\n",
    "\n",
    "Two other important attributes of a `gpd.GeoDataFrame` are its coordinate reference syste, (CRS) and its extent.\n",
    "\n",
    "CRS instructions to locate each feature on the surface of Earth. \n",
    "\n",
    "Access CRS of geo-dataframe using `crs` attribute"
   ]
  },
  {
   "cell_type": "code",
   "execution_count": 10,
   "id": "b596eabe-0a5c-4a40-b220-d9b424a9506a",
   "metadata": {
    "tags": []
   },
   "outputs": [
    {
     "data": {
      "text/plain": [
       "<Geographic 2D CRS: EPSG:4326>\n",
       "Name: WGS 84\n",
       "Axis Info [ellipsoidal]:\n",
       "- Lat[north]: Geodetic latitude (degree)\n",
       "- Lon[east]: Geodetic longitude (degree)\n",
       "Area of Use:\n",
       "- name: World\n",
       "- bounds: (-180.0, -90.0, 180.0, 90.0)\n",
       "Datum: World Geodetic System 1984\n",
       "- Ellipsoid: WGS 84\n",
       "- Prime Meridian: Greenwich"
      ]
     },
     "execution_count": 10,
     "metadata": {},
     "output_type": "execute_result"
    }
   ],
   "source": [
    "# access crs\n",
    "pigs.crs"
   ]
  },
  {
   "cell_type": "markdown",
   "id": "ea1f08c2-175f-44b5-a579-4d4df0c142aa",
   "metadata": {},
   "source": [
    "The **extent** of the gdf is the bounding box covering all of the features in our datframe. \n",
    "\n",
    "We access information to creat the extent of the dataframe using `total_bounds` attribute"
   ]
  },
  {
   "cell_type": "code",
   "execution_count": 11,
   "id": "13552d21-ae45-49eb-8b60-478e2ce19a53",
   "metadata": {
    "tags": []
   },
   "outputs": [],
   "source": [
    "# provides the bounding box coordinates\n",
    "pigs.total_bounds"
   ]
  },
  {
   "cell_type": "markdown",
   "id": "910749ad-ff66-4b55-8c29-93126e8bb4a3",
   "metadata": {
    "tags": []
   },
   "source": [
    "## Data wrangling \n",
    "\n",
    "Geopandas is built on top of `pandas`, so almost everything we gave learnd about wrangling pandas data, still applies.\n",
    "\n",
    "**Example** \n",
    "\n",
    "We only want to use recent data for the wild pig observations."
   ]
  },
  {
   "cell_type": "code",
   "execution_count": 14,
   "id": "51d5d46d-bd27-4f64-89c4-068f862d6cb8",
   "metadata": {
    "tags": []
   },
   "outputs": [
    {
     "data": {
      "text/plain": [
       "1818.0     31\n",
       "1910.0      1\n",
       "1925.0      1\n",
       "1927.0      4\n",
       "1929.0      3\n",
       "         ... \n",
       "2019.0    101\n",
       "2020.0    159\n",
       "2021.0    164\n",
       "2022.0    185\n",
       "2023.0     98\n",
       "Name: year, Length: 61, dtype: int64"
      ]
     },
     "execution_count": 14,
     "metadata": {},
     "output_type": "execute_result"
    }
   ],
   "source": [
    "# what years do we have?\n",
    "pigs.year.value_counts().sort_index()"
   ]
  },
  {
   "cell_type": "markdown",
   "id": "efc5013f-74ed-46de-9c1c-4c41f0b6cd9a",
   "metadata": {
    "tags": []
   },
   "source": [
    "We can use our usual data selection"
   ]
  },
  {
   "cell_type": "code",
   "execution_count": 18,
   "id": "746c9bbf-899a-485a-a668-323124616b6b",
   "metadata": {
    "tags": []
   },
   "outputs": [
    {
     "name": "stdout",
     "output_type": "stream",
     "text": [
      "1046\n",
      "606\n"
     ]
    },
    {
     "data": {
      "text/html": [
       "<div>\n",
       "<style scoped>\n",
       "    .dataframe tbody tr th:only-of-type {\n",
       "        vertical-align: middle;\n",
       "    }\n",
       "\n",
       "    .dataframe tbody tr th {\n",
       "        vertical-align: top;\n",
       "    }\n",
       "\n",
       "    .dataframe thead th {\n",
       "        text-align: right;\n",
       "    }\n",
       "</style>\n",
       "<table border=\"1\" class=\"dataframe\">\n",
       "  <thead>\n",
       "    <tr style=\"text-align: right;\">\n",
       "      <th></th>\n",
       "      <th>gbifID</th>\n",
       "      <th>species</th>\n",
       "      <th>state</th>\n",
       "      <th>individual</th>\n",
       "      <th>day</th>\n",
       "      <th>month</th>\n",
       "      <th>year</th>\n",
       "      <th>inst</th>\n",
       "      <th>collection</th>\n",
       "      <th>catalogNum</th>\n",
       "      <th>identified</th>\n",
       "      <th>geometry</th>\n",
       "    </tr>\n",
       "  </thead>\n",
       "  <tbody>\n",
       "    <tr>\n",
       "      <th>61</th>\n",
       "      <td>4424675671</td>\n",
       "      <td>Sus scrofa</td>\n",
       "      <td>California</td>\n",
       "      <td>NaN</td>\n",
       "      <td>23.0</td>\n",
       "      <td>9.0</td>\n",
       "      <td>2023.0</td>\n",
       "      <td>iNaturalist</td>\n",
       "      <td>Observations</td>\n",
       "      <td>186357811</td>\n",
       "      <td>madamcoyote</td>\n",
       "      <td>POINT (-124.28580 40.32482)</td>\n",
       "    </tr>\n",
       "    <tr>\n",
       "      <th>62</th>\n",
       "      <td>4424357894</td>\n",
       "      <td>Sus scrofa</td>\n",
       "      <td>California</td>\n",
       "      <td>NaN</td>\n",
       "      <td>6.0</td>\n",
       "      <td>10.0</td>\n",
       "      <td>2023.0</td>\n",
       "      <td>iNaturalist</td>\n",
       "      <td>Observations</td>\n",
       "      <td>186474363</td>\n",
       "      <td>skullroy</td>\n",
       "      <td>POINT (-120.82724 35.34895)</td>\n",
       "    </tr>\n",
       "    <tr>\n",
       "      <th>63</th>\n",
       "      <td>4424357588</td>\n",
       "      <td>Sus scrofa</td>\n",
       "      <td>California</td>\n",
       "      <td>NaN</td>\n",
       "      <td>5.0</td>\n",
       "      <td>10.0</td>\n",
       "      <td>2023.0</td>\n",
       "      <td>iNaturalist</td>\n",
       "      <td>Observations</td>\n",
       "      <td>186333783</td>\n",
       "      <td>Brian Ahern</td>\n",
       "      <td>POINT (-121.71683 37.34602)</td>\n",
       "    </tr>\n",
       "    <tr>\n",
       "      <th>64</th>\n",
       "      <td>4424288359</td>\n",
       "      <td>Sus scrofa</td>\n",
       "      <td>California</td>\n",
       "      <td>NaN</td>\n",
       "      <td>7.0</td>\n",
       "      <td>10.0</td>\n",
       "      <td>2023.0</td>\n",
       "      <td>iNaturalist</td>\n",
       "      <td>Observations</td>\n",
       "      <td>186602594</td>\n",
       "      <td>Steph</td>\n",
       "      <td>POINT (-119.62832 37.28900)</td>\n",
       "    </tr>\n",
       "    <tr>\n",
       "      <th>65</th>\n",
       "      <td>4424285723</td>\n",
       "      <td>Sus scrofa</td>\n",
       "      <td>California</td>\n",
       "      <td>NaN</td>\n",
       "      <td>5.0</td>\n",
       "      <td>10.0</td>\n",
       "      <td>2023.0</td>\n",
       "      <td>iNaturalist</td>\n",
       "      <td>Observations</td>\n",
       "      <td>186479844</td>\n",
       "      <td>natleecrockett</td>\n",
       "      <td>POINT (-121.77317 37.50025)</td>\n",
       "    </tr>\n",
       "  </tbody>\n",
       "</table>\n",
       "</div>"
      ],
      "text/plain": [
       "        gbifID     species       state  individual   day  month    year  \\\n",
       "61  4424675671  Sus scrofa  California         NaN  23.0    9.0  2023.0   \n",
       "62  4424357894  Sus scrofa  California         NaN   6.0   10.0  2023.0   \n",
       "63  4424357588  Sus scrofa  California         NaN   5.0   10.0  2023.0   \n",
       "64  4424288359  Sus scrofa  California         NaN   7.0   10.0  2023.0   \n",
       "65  4424285723  Sus scrofa  California         NaN   5.0   10.0  2023.0   \n",
       "\n",
       "           inst    collection catalogNum      identified  \\\n",
       "61  iNaturalist  Observations  186357811     madamcoyote   \n",
       "62  iNaturalist  Observations  186474363        skullroy   \n",
       "63  iNaturalist  Observations  186333783     Brian Ahern   \n",
       "64  iNaturalist  Observations  186602594           Steph   \n",
       "65  iNaturalist  Observations  186479844  natleecrockett   \n",
       "\n",
       "                       geometry  \n",
       "61  POINT (-124.28580 40.32482)  \n",
       "62  POINT (-120.82724 35.34895)  \n",
       "63  POINT (-121.71683 37.34602)  \n",
       "64  POINT (-119.62832 37.28900)  \n",
       "65  POINT (-121.77317 37.50025)  "
      ]
     },
     "execution_count": 18,
     "metadata": {},
     "output_type": "execute_result"
    }
   ],
   "source": [
    "# select data from 2020 onwards\n",
    "pigs_recent = pigs[pigs.year >= 2020]\n",
    "\n",
    "# print length of original data frame\n",
    "print(len(pigs))\n",
    "\n",
    "# print length of subset \n",
    "print(len(pigs_recent))\n",
    "\n",
    "pigs_recent.head()"
   ]
  },
  {
   "cell_type": "markdown",
   "id": "eb8bcb2a-d288-4d44-bdb7-2f8cc530875c",
   "metadata": {
    "tags": []
   },
   "source": [
    "## Plotting\n",
    "\n",
    "### `plot()`\n",
    "\n",
    "`gpd.GeoDataFrame` has a `plot()` method that we can call directly. \n",
    "\n",
    "The geospatial component "
   ]
  },
  {
   "cell_type": "code",
   "execution_count": 19,
   "id": "e7241815-dcd2-4f8b-b6ab-2d8b7237f082",
   "metadata": {
    "tags": []
   },
   "outputs": [
    {
     "data": {
      "text/plain": [
       "<AxesSubplot:>"
      ]
     },
     "execution_count": 19,
     "metadata": {},
     "output_type": "execute_result"
    },
    {
     "data": {
      "image/png": "[encoded data removed]",
      "text/plain": [
       "<Figure size 640x480 with 1 Axes>"
      ]
     },
     "metadata": {},
     "output_type": "display_data"
    }
   ],
   "source": [
    "pigs_recent.plot()"
   ]
  },
  {
   "cell_type": "markdown",
   "id": "bc8f951a-c40d-427f-95b7-e2cd8c5727ef",
   "metadata": {
    "tags": []
   },
   "source": [
    "### `matplotlib`'s `fig` and `ax`\n",
    "\n",
    "We use `matplotlib` to create more complex, customzed graphs, like maps. \n",
    "\n",
    "We can interact with `matplotlib` via `pyplot` interface, which we imported as\n",
    "\n",
    "\n",
    "```python\n",
    "import matplotlib.pyplot as plt\n",
    "```\n",
    "\n",
    "`matplotlib` graphs the data in a **figure** that can have one or more **axes**. The axis is only the area specified by the x-y axis and what is plotted in it.\n",
    "\n",
    "To initialize a blank figure:\n",
    "1. Initialize blank figure and axis by calling `pyplot` `subplots()`  functon,\n",
    "2. show graph using plt.show()"
   ]
  },
  {
   "cell_type": "code",
   "execution_count": 24,
   "id": "af2a4d91-df6c-4aaf-8f9d-315a8b6b7cc5",
   "metadata": {
    "tags": []
   },
   "outputs": [
    {
     "data": {
      "image/png": "[encoded data removed]",
      "text/plain": [
       "<Figure size 640x480 with 1 Axes>"
      ]
     },
     "metadata": {},
     "output_type": "display_data"
    }
   ],
   "source": [
    "# create a blank figure (fig) and an empyty axis (ax)\n",
    "\n",
    "fig, ax = plt.subplots()\n",
    "\n",
    "# display figure \n",
    "plt.show()"
   ]
  },
  {
   "cell_type": "markdown",
   "id": "d139580b-5cb6-4e1b-b950-d26384f5c346",
   "metadata": {
    "tags": []
   },
   "source": [
    "## Adding a layer\n",
    "\n",
    "When using `matplotlib` it can be useful to think of creating a plot by adding layers to the axis\n",
    "\n",
    "General syntax to plot \n",
    "```python\n",
    "# create a new figure \n",
    "fig, ax = plt.subplots()\n",
    "\n",
    "# plot df on the ax axis\n",
    "df.plot(ax = ax,\n",
    "       ...) # other aruguments\n",
    "\n",
    "# display figure \n",
    "plt.show()\n",
    "\n",
    "```\n",
    "\n",
    "**Example**\n",
    "\n",
    "The first layer we want to add to our ais is the `pigs_recent` point data."
   ]
  },
  {
   "cell_type": "code",
   "execution_count": 25,
   "id": "407636b7-a2bd-4a57-9360-36bae75bf307",
   "metadata": {
    "tags": []
   },
   "outputs": [
    {
     "data": {
      "image/png": "[encoded data removed]",
      "text/plain": [
       "<Figure size 640x480 with 1 Axes>"
      ]
     },
     "metadata": {},
     "output_type": "display_data"
    }
   ],
   "source": [
    "# create a new figure and axis \n",
    "fig, ax = plt.subplots()\n",
    "\n",
    "# add pigs point plot to our figures acis \n",
    "pigs_recent.plot(ax = ax)\n",
    "\n",
    "# display figure \n",
    "plt.show()"
   ]
  },
  {
   "cell_type": "markdown",
   "id": "9cf3b678-6dcc-4d5f-9f14-268f60ecb2f8",
   "metadata": {
    "tags": []
   },
   "source": [
    "### Customization \n",
    "\n",
    "Matplotlib allows for a lot of customization. \n",
    "\n",
    "Some DIRECTLY into the `plot()` function, and others happen by updating attributes from the axis `ax`."
   ]
  },
  {
   "cell_type": "code",
   "execution_count": 28,
   "id": "da903bbd-53e6-4000-9a94-63ea07915069",
   "metadata": {
    "tags": []
   },
   "outputs": [],
   "source": [
    "# initialize an empty figure \n",
    "fig, ax = plt.subplots()\n",
    "\n",
    "# add data to acis \n",
    "pigs_recent.plot(ax = ax,\n",
    "                alpha = 0.5,\n",
    "                color = 'red')\n",
    "\n",
    "# update axis\n",
    "ax.set_title('Reported Wild Pig Citings in CA (2020-2023)')\n",
    "ax.set_xlabel('Longitude')\n",
    "ax.set_ylabel('Latitude')"
   ]
  },
  {
   "cell_type": "markdown",
   "id": "2cd755cc-1cdc-4523-963e-a9eb2d09c2b8",
   "metadata": {
    "tags": []
   },
   "source": [
    "## Exercise\n",
    "\n",
    "1. Open CA boundary shapefile and store as ca_boundary. How many features does it have?\n",
    "2. Add it to pig sighitngs graph to that CA boundary appears BEHIND the points"
   ]
  },
  {
   "cell_type": "code",
   "execution_count": 35,
   "id": "d3cc8fde-7234-4792-b11f-1517a9ca9700",
   "metadata": {
    "tags": []
   },
   "outputs": [],
   "source": [
    "ca_boundary = gpd.read_file('data/ca-boundary/ca-boundary.shp')\n",
    "\n",
    "# has 15 attributes; but 1 feature\n",
    "ca_boundary.info()"
   ]
  },
  {
   "cell_type": "code",
   "execution_count": null,
   "id": "e9d5d663-ba2b-41b8-b65f-7f3e1dcb381b",
   "metadata": {
    "tags": []
   },
   "outputs": [
    {
     "data": {
      "text/plain": [
       "<AxesSubplot:>"
      ]
     },
     "execution_count": 43,
     "metadata": {},
     "output_type": "execute_result"
    },
    {
     "data": {
      "image/png": "[encoded data removed]",
      "text/plain": [
       "<Figure size 640x480 with 1 Axes>"
      ]
     },
     "metadata": {},
     "output_type": "display_data"
    }
   ],
   "source": [
    "# initialize an empty figure \n",
    "fig, ax = plt.subplots()\n",
    "\n",
    "# add data to acis \n",
    "ca_boundary.plot(ax = ax,\n",
    "                alpha = 0.2,\n",
    "                color = 'blue')\n",
    "pigs_recent.plot(ax = ax,\n",
    "                alpha = 0.5,\n",
    "                color = 'red')\n",
    "\n",
    "\n",
    "# update axis\n",
    "#ax.set_title('Reported Wild Pig Citings in CA (2020-2023)')\n",
    "#ax.set_xlabel('Longitude')\n",
    "#ax.set_ylabel('Latitude')"
   ]
  },
  {
   "cell_type": "code",
   "execution_count": 28,
   "id": "1e0ba5e1-1cee-4aa8-bee6-4776805c6bc5",
   "metadata": {
    "tags": []
   },
   "outputs": [],
   "source": []
  },
  {
   "cell_type": "code",
   "execution_count": 28,
   "id": "bca537c6-70a4-41ed-be32-b2ceaa781a16",
   "metadata": {
    "tags": []
   },
   "outputs": [],
   "source": []
  },
  {
   "cell_type": "code",
   "execution_count": 28,
   "id": "0eca378b-96b2-4e51-b3ba-a4afd6b76e78",
   "metadata": {
    "tags": []
   },
   "outputs": [
    {
     "data": {
      "text/plain": [
       "Text(139.46352036527887, 0.5, 'Latitude')"
      ]
     },
     "execution_count": 28,
     "metadata": {},
     "output_type": "execute_result"
    },
    {
     "data": {
      "image/png": "[encoded data removed]",
      "text/plain": [
       "<Figure size 640x480 with 1 Axes>"
      ]
     },
     "metadata": {},
     "output_type": "display_data"
    }
   ],
   "source": []
  }
 ],
 "metadata": {
  "kernelspec": {
   "display_name": "Anaconda 3 (Base)",
   "language": "python",
   "name": "base"
  },
  "language_info": {
   "codemirror_mode": {
    "name": "ipython",
    "version": 3
   },
   "file_extension": ".py",
   "mimetype": "text/x-python",
   "name": "python",
   "nbconvert_exporter": "python",
   "pygments_lexer": "ipython3",
   "version": "3.9.13"
  }
 },
 "nbformat": 4,
 "nbformat_minor": 5
}
